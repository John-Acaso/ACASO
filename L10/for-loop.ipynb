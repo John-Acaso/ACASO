{
 "cells": [
  {
   "cell_type": "markdown",
   "id": "73961c7e",
   "metadata": {},
   "source": [
    "# For Loop <hr style = \"border : 2.5px solid #126782\"></hr>"
   ]
  },
  {
   "cell_type": "markdown",
   "id": "333421b5",
   "metadata": {},
   "source": [
    "# Data Analys: John Lester A. Acaso <br> Department: Electrical Engineering"
   ]
  },
  {
   "cell_type": "markdown",
   "id": "563952ea",
   "metadata": {},
   "source": [
    "# Iterating Over a List"
   ]
  },
  {
   "cell_type": "code",
   "execution_count": 1,
   "id": "935de868",
   "metadata": {},
   "outputs": [
    {
     "name": "stdout",
     "output_type": "stream",
     "text": [
      "apple\n",
      "orange\n",
      "grapes\n"
     ]
    }
   ],
   "source": [
    "# at index 0, i = \"apple\"\n",
    "fruits = [\"apple\",\"orange\",\"grapes\"]\n",
    "\n",
    "for i in fruits:\n",
    "    print(i)\n",
    "    "
   ]
  },
  {
   "cell_type": "code",
   "execution_count": 3,
   "id": "1e7bcad2",
   "metadata": {},
   "outputs": [
    {
     "name": "stdout",
     "output_type": "stream",
     "text": [
      "1\n",
      "2\n",
      "3\n",
      "4\n",
      "5\n",
      "6\n",
      "7\n",
      "8\n",
      "9\n",
      "10\n"
     ]
    }
   ],
   "source": [
    "# at index 0, n = 1\n",
    "numbers = [1,2,3,4,5,6,7,8,9,10]\n",
    "\n",
    "for n in numbers:\n",
    "    print(n)"
   ]
  },
  {
   "cell_type": "code",
   "execution_count": 4,
   "id": "afe41db9",
   "metadata": {},
   "outputs": [
    {
     "name": "stdout",
     "output_type": "stream",
     "text": [
      "1\n",
      "4\n",
      "7\n"
     ]
    }
   ],
   "source": [
    "# start at 1, ends at 10 (exclusive), steps by 3\n",
    "for j in range(1,10,3):\n",
    "    print(j)"
   ]
  },
  {
   "cell_type": "markdown",
   "id": "e4e8682c",
   "metadata": {},
   "source": [
    "# Iterating  Over a Dictionary"
   ]
  },
  {
   "cell_type": "code",
   "execution_count": 5,
   "id": "d2098581",
   "metadata": {},
   "outputs": [
    {
     "name": "stdout",
     "output_type": "stream",
     "text": [
      "P\n",
      "y\n",
      "t\n",
      "h\n",
      "o\n",
      "n\n"
     ]
    }
   ],
   "source": [
    "# at index 0, char = 'P'\n",
    "for char in \"Python\":\n",
    "    print(char)"
   ]
  },
  {
   "cell_type": "code",
   "execution_count": 8,
   "id": "0d4f0948",
   "metadata": {},
   "outputs": [
    {
     "name": "stdout",
     "output_type": "stream",
     "text": [
      "name\n",
      "position\n",
      "Salary\n",
      "Ada\n",
      "analyst\n",
      "80000\n"
     ]
    }
   ],
   "source": [
    "employee = {\"name\":\"Ada\",\n",
    "            \"position\":\"analyst\",\n",
    "            \"Salary\":80000}\n",
    "\n",
    "# starts at key = \"name\"\n",
    "for key in employee:\n",
    "    print(key)\n",
    "\n",
    "# starts at value = \"Ada\"\n",
    "for value in employee.values():\n",
    "    print(value)\n"
   ]
  }
 ],
 "metadata": {
  "kernelspec": {
   "display_name": "Python 3",
   "language": "python",
   "name": "python3"
  },
  "language_info": {
   "codemirror_mode": {
    "name": "ipython",
    "version": 3
   },
   "file_extension": ".py",
   "mimetype": "text/x-python",
   "name": "python",
   "nbconvert_exporter": "python",
   "pygments_lexer": "ipython3",
   "version": "3.11.9"
  }
 },
 "nbformat": 4,
 "nbformat_minor": 5
}
