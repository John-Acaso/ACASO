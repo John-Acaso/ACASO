{
 "cells": [
  {
   "cell_type": "markdown",
   "id": "d21ae71b",
   "metadata": {},
   "source": [
    "# NumPy Basics <hr style=\"border:2.5px solid #126782\\\"></hr>"
   ]
  },
  {
   "cell_type": "markdown",
   "id": "f0d4f58a",
   "metadata": {},
   "source": [
    "# Data Analys: John Lester A. Acaso <br> Department: Electrical Engineering"
   ]
  },
  {
   "cell_type": "markdown",
   "id": "f3e200cc",
   "metadata": {},
   "source": [
    "# Install and update NumPy"
   ]
  },
  {
   "cell_type": "code",
   "execution_count": 1,
   "id": "7797aba7",
   "metadata": {},
   "outputs": [],
   "source": [
    "#%pip install numpy --upgrade"
   ]
  },
  {
   "cell_type": "markdown",
   "id": "21afe84c",
   "metadata": {},
   "source": [
    "# Install and update scipy"
   ]
  },
  {
   "cell_type": "code",
   "execution_count": 2,
   "id": "60324b20",
   "metadata": {},
   "outputs": [],
   "source": [
    "#%pip install scipy --upgrade"
   ]
  },
  {
   "cell_type": "code",
   "execution_count": 3,
   "id": "40389306",
   "metadata": {},
   "outputs": [],
   "source": [
    "#%pip install numpy"
   ]
  },
  {
   "cell_type": "code",
   "execution_count": 4,
   "id": "414f1ea1",
   "metadata": {},
   "outputs": [],
   "source": [
    "#%pip install scipy"
   ]
  },
  {
   "cell_type": "code",
   "execution_count": 5,
   "id": "1de761ae",
   "metadata": {},
   "outputs": [],
   "source": [
    "# imports and packages\n",
    "import numpy as np\n",
    "from scipy import stats"
   ]
  },
  {
   "cell_type": "markdown",
   "id": "156e8cdf",
   "metadata": {},
   "source": [
    "# 1D Array"
   ]
  },
  {
   "cell_type": "code",
   "execution_count": 6,
   "id": "2296e0b9",
   "metadata": {},
   "outputs": [
    {
     "data": {
      "text/plain": [
       "array([1, 2, 3])"
      ]
     },
     "execution_count": 6,
     "metadata": {},
     "output_type": "execute_result"
    }
   ],
   "source": [
    "# 1-dimentional array\n",
    "array_a = np.array([1,2,3])\n",
    "array_a"
   ]
  },
  {
   "cell_type": "code",
   "execution_count": 7,
   "id": "e187bcca",
   "metadata": {},
   "outputs": [
    {
     "data": {
      "text/plain": [
       "(3,)"
      ]
     },
     "execution_count": 7,
     "metadata": {},
     "output_type": "execute_result"
    }
   ],
   "source": [
    "# size of an array\n",
    "np.shape(array_a)"
   ]
  },
  {
   "cell_type": "code",
   "execution_count": 8,
   "id": "d32b69e6",
   "metadata": {},
   "outputs": [
    {
     "data": {
      "text/plain": [
       "array([4, 5, 6])"
      ]
     },
     "execution_count": 8,
     "metadata": {},
     "output_type": "execute_result"
    }
   ],
   "source": [
    "# 1-dimentional array\n",
    "array_b = np.array([4,5,6])\n",
    "array_b"
   ]
  },
  {
   "cell_type": "markdown",
   "id": "b55812ff",
   "metadata": {},
   "source": [
    "# 2D Array"
   ]
  },
  {
   "cell_type": "code",
   "execution_count": 9,
   "id": "a11bd600",
   "metadata": {},
   "outputs": [
    {
     "data": {
      "text/plain": [
       "array([[1, 2, 3],\n",
       "       [4, 5, 6]])"
      ]
     },
     "execution_count": 9,
     "metadata": {},
     "output_type": "execute_result"
    }
   ],
   "source": [
    "# 2-dimentional array\n",
    "my_array = np.array([[1,2,3],[4,5,6]])\n",
    "my_array"
   ]
  },
  {
   "cell_type": "code",
   "execution_count": 10,
   "id": "c9da99f8",
   "metadata": {},
   "outputs": [
    {
     "data": {
      "text/plain": [
       "(2, 3)"
      ]
     },
     "execution_count": 10,
     "metadata": {},
     "output_type": "execute_result"
    }
   ],
   "source": [
    "# size of matrix\n",
    "np.shape(my_array)"
   ]
  },
  {
   "cell_type": "code",
   "execution_count": 11,
   "id": "ae5fc3ae",
   "metadata": {},
   "outputs": [
    {
     "data": {
      "text/plain": [
       "array([[1, 4],\n",
       "       [2, 5],\n",
       "       [3, 6]])"
      ]
     },
     "execution_count": 11,
     "metadata": {},
     "output_type": "execute_result"
    }
   ],
   "source": [
    "# transpose of a matrix\n",
    "t_array = my_array.T\n",
    "t_array"
   ]
  },
  {
   "cell_type": "code",
   "execution_count": 12,
   "id": "bb2012f2",
   "metadata": {},
   "outputs": [
    {
     "data": {
      "text/plain": [
       "(3, 2)"
      ]
     },
     "execution_count": 12,
     "metadata": {},
     "output_type": "execute_result"
    }
   ],
   "source": [
    "# size of matrix \n",
    "np.shape(t_array)"
   ]
  },
  {
   "cell_type": "markdown",
   "id": "87e7e563",
   "metadata": {},
   "source": [
    "# Measures of Central Tendency"
   ]
  },
  {
   "cell_type": "markdown",
   "id": "c4f2ca2a",
   "metadata": {},
   "source": [
    "# Fruit Price List"
   ]
  },
  {
   "cell_type": "code",
   "execution_count": 13,
   "id": "1fc5778b",
   "metadata": {},
   "outputs": [
    {
     "data": {
      "text/plain": [
       "array([120,  60,  85, 150, 200])"
      ]
     },
     "execution_count": 13,
     "metadata": {},
     "output_type": "execute_result"
    }
   ],
   "source": [
    "# fruit price list dataset\n",
    "fruits = np.array([120,60,85,150,200])\n",
    "fruits"
   ]
  },
  {
   "cell_type": "code",
   "execution_count": 14,
   "id": "f273a5e5",
   "metadata": {},
   "outputs": [
    {
     "data": {
      "text/plain": [
       "np.float64(123.0)"
      ]
     },
     "execution_count": 14,
     "metadata": {},
     "output_type": "execute_result"
    }
   ],
   "source": [
    "# mean \n",
    "fruits_mean = np.mean(fruits)\n",
    "fruits_mean"
   ]
  },
  {
   "cell_type": "code",
   "execution_count": 15,
   "id": "94d8bb64",
   "metadata": {},
   "outputs": [
    {
     "data": {
      "text/plain": [
       "np.float64(120.0)"
      ]
     },
     "execution_count": 15,
     "metadata": {},
     "output_type": "execute_result"
    }
   ],
   "source": [
    "# median\n",
    "fruits_median = np.median(fruits)\n",
    "fruits_median"
   ]
  },
  {
   "cell_type": "code",
   "execution_count": 16,
   "id": "4fc78068",
   "metadata": {},
   "outputs": [
    {
     "data": {
      "text/plain": [
       "array([ 60,  85, 120, 150, 200])"
      ]
     },
     "execution_count": 16,
     "metadata": {},
     "output_type": "execute_result"
    }
   ],
   "source": [
    "# sort\n",
    "fruits_sorted = np.sort(fruits)\n",
    "fruits_sorted"
   ]
  },
  {
   "cell_type": "code",
   "execution_count": 17,
   "id": "f9e789a4",
   "metadata": {},
   "outputs": [
    {
     "data": {
      "text/plain": [
       "ModeResult(mode=np.int64(60), count=np.int64(1))"
      ]
     },
     "execution_count": 17,
     "metadata": {},
     "output_type": "execute_result"
    }
   ],
   "source": [
    "# mode \n",
    "stats.mode(fruits)"
   ]
  },
  {
   "cell_type": "markdown",
   "id": "9005c0f1",
   "metadata": {},
   "source": [
    "# Voltage Response"
   ]
  },
  {
   "cell_type": "code",
   "execution_count": 18,
   "id": "5194274d",
   "metadata": {},
   "outputs": [
    {
     "data": {
      "text/plain": [
       "array([[ 1. ,  2. ,  3. ,  4. ,  5. ,  6. ,  7. ,  8. ],\n",
       "       [12. ,  5. ,  9.1,  3.3, 24. , 18.5, 15.2,  nan],\n",
       "       [ 2.8,  4.5,  6. ,  9. , 11.7, 14.8, 17.3, 20. ]])"
      ]
     },
     "execution_count": 18,
     "metadata": {},
     "output_type": "execute_result"
    }
   ],
   "source": [
    "# voltage response dataset\n",
    "voltage = np.array([\n",
    "    [1,2,3,4,5,6,7,8],\n",
    "    [12,5,9.1,3.3,24,18.5,15.2,np.nan],\n",
    "    [2.8,4.5,6,9,11.7,14.8,17.3,20]\n",
    "])\n",
    "voltage"
   ]
  },
  {
   "cell_type": "markdown",
   "id": "a716e61b",
   "metadata": {},
   "source": [
    "# Measures of Variability"
   ]
  },
  {
   "cell_type": "markdown",
   "id": "f35aeeee",
   "metadata": {},
   "source": [
    "# Exam Performance"
   ]
  },
  {
   "cell_type": "code",
   "execution_count": 19,
   "id": "2780f173",
   "metadata": {},
   "outputs": [
    {
     "data": {
      "text/plain": [
       "array([3.5, 6.7, 7. , 7.4, 7.8, 8.2, 8.5, 8.8, 9. , 9.1, 9.4, 9.8])"
      ]
     },
     "execution_count": 19,
     "metadata": {},
     "output_type": "execute_result"
    }
   ],
   "source": [
    "# exam performance dataset\n",
    "grade = np.array([3.5,6.7,7,7.4,7.8,8.2,8.5,8.8,9,9.1,9.4,9.8])\n",
    "grade"
   ]
  },
  {
   "cell_type": "markdown",
   "id": "5bbf1f83",
   "metadata": {},
   "source": [
    "# Ice Cream Price List"
   ]
  },
  {
   "cell_type": "code",
   "execution_count": 20,
   "id": "801fd5d5",
   "metadata": {},
   "outputs": [
    {
     "data": {
      "text/plain": [
       "array([[  3.5 ,   4.  ,   3.75,   4.25,   3.9 ,   4.1 ,   3.6 ,   4.5 ,\n",
       "          3.8 ,   4.15],\n",
       "       [203.  , 232.  , 217.5 , 246.5 , 226.2 , 237.8 , 208.8 , 261.  ,\n",
       "        220.4 , 240.7 ]])"
      ]
     },
     "execution_count": 20,
     "metadata": {},
     "output_type": "execute_result"
    }
   ],
   "source": [
    "# ice cream price list dataset\n",
    "price = np.array([\n",
    "    [3.5,4,3.75,4.25,3.9,4.1,3.6,4.5,3.8,4.15],\n",
    "    [203,232,217.5,246.5,226.2,237.8,208.8,261,220.4,240.7]\n",
    "])\n",
    "price"
   ]
  },
  {
   "cell_type": "markdown",
   "id": "abd134aa",
   "metadata": {},
   "source": [
    "# Pooled Standard Deviation"
   ]
  },
  {
   "cell_type": "code",
   "execution_count": 21,
   "id": "4f82635c",
   "metadata": {},
   "outputs": [
    {
     "data": {
      "text/plain": [
       "array([['A', 'A', 'A', 'A', 'A', 'B', 'B', 'B', 'B', 'B', 'C', 'C', 'C',\n",
       "        'C', 'C'],\n",
       "       ['12.5', '12.8', '12.7', '13.3', '12.6', '13.5', '14.1', '13.9',\n",
       "        '14.3', '13.7', '11.8', '11.9', '12.1', '12.2', '11.6']],\n",
       "      dtype='<U32')"
      ]
     },
     "execution_count": 21,
     "metadata": {},
     "output_type": "execute_result"
    }
   ],
   "source": [
    "# battery life dataset\n",
    "battery = np.array([\n",
    "    ['A','A','A','A','A','B','B','B','B','B','C','C','C','C','C'],\n",
    "    [12.5,12.8,12.7,13.3,12.6,13.5,14.1,13.9,14.3,13.7,11.8,11.9,12.1,12.2,11.6]\n",
    "])\n",
    "battery"
   ]
  },
  {
   "cell_type": "markdown",
   "id": "4224488e",
   "metadata": {},
   "source": [
    "# Assignment"
   ]
  },
  {
   "cell_type": "markdown",
   "id": "9e23cfe6",
   "metadata": {},
   "source": [
    "# Jaguar Measures of Central Tendency"
   ]
  },
  {
   "cell_type": "code",
   "execution_count": 22,
   "id": "7cb77b44",
   "metadata": {},
   "outputs": [
    {
     "data": {
      "text/plain": [
       "array([10.6,  9.1,  9.3,  9.8, 10.5, 10.4,  9.5, 11. , 10.4,  3. ,  9.8])"
      ]
     },
     "execution_count": 22,
     "metadata": {},
     "output_type": "execute_result"
    }
   ],
   "source": [
    "jaguar = np.array([10.6,9.1,9.3,9.8,10.5,10.4,9.5,11,10.4,3,9.8])\n",
    "jaguar"
   ]
  },
  {
   "cell_type": "code",
   "execution_count": 23,
   "id": "11b0f9b0",
   "metadata": {},
   "outputs": [
    {
     "data": {
      "text/plain": [
       "np.float64(9.399999999999999)"
      ]
     },
     "execution_count": 23,
     "metadata": {},
     "output_type": "execute_result"
    }
   ],
   "source": [
    "jaguar_mean = np.mean(jaguar)\n",
    "jaguar_mean"
   ]
  },
  {
   "cell_type": "code",
   "execution_count": 24,
   "id": "be3620d9",
   "metadata": {},
   "outputs": [
    {
     "data": {
      "text/plain": [
       "np.float64(9.8)"
      ]
     },
     "execution_count": 24,
     "metadata": {},
     "output_type": "execute_result"
    }
   ],
   "source": [
    "jaguar_median = np.median(jaguar)\n",
    "jaguar_median"
   ]
  },
  {
   "cell_type": "code",
   "execution_count": 25,
   "id": "cb1cb451",
   "metadata": {},
   "outputs": [
    {
     "data": {
      "text/plain": [
       "ModeResult(mode=np.float64(9.8), count=np.int64(2))"
      ]
     },
     "execution_count": 25,
     "metadata": {},
     "output_type": "execute_result"
    }
   ],
   "source": [
    "jaguar_mode = stats.mode(jaguar)\n",
    "jaguar_mode"
   ]
  },
  {
   "cell_type": "code",
   "execution_count": 26,
   "id": "ca1c534b",
   "metadata": {},
   "outputs": [
    {
     "data": {
      "text/plain": [
       "np.float64(2.101947149236112)"
      ]
     },
     "execution_count": 26,
     "metadata": {},
     "output_type": "execute_result"
    }
   ],
   "source": [
    "jaguar_std = np.std(jaguar)\n",
    "jaguar_std"
   ]
  },
  {
   "cell_type": "code",
   "execution_count": 27,
   "id": "f5260f74",
   "metadata": {},
   "outputs": [
    {
     "data": {
      "text/plain": [
       "array([10,  9,  9,  9, 10, 10,  9, 11, 10,  3,  9], dtype=int16)"
      ]
     },
     "execution_count": 27,
     "metadata": {},
     "output_type": "execute_result"
    }
   ],
   "source": [
    "jaguar_sorted = np.short(jaguar)\n",
    "jaguar_sorted"
   ]
  },
  {
   "cell_type": "code",
   "execution_count": 28,
   "id": "7182b769",
   "metadata": {},
   "outputs": [
    {
     "data": {
      "text/plain": [
       "np.float64(11.0)"
      ]
     },
     "execution_count": 28,
     "metadata": {},
     "output_type": "execute_result"
    }
   ],
   "source": [
    "max_jaguar = np.max(jaguar)\n",
    "max_jaguar"
   ]
  },
  {
   "cell_type": "code",
   "execution_count": 29,
   "id": "4cad9e20",
   "metadata": {},
   "outputs": [
    {
     "data": {
      "text/plain": [
       "np.float64(3.0)"
      ]
     },
     "execution_count": 29,
     "metadata": {},
     "output_type": "execute_result"
    }
   ],
   "source": [
    "min_jaguar = np.min(jaguar)\n",
    "min_jaguar"
   ]
  },
  {
   "cell_type": "code",
   "execution_count": 30,
   "id": "80ea0b93",
   "metadata": {},
   "outputs": [
    {
     "data": {
      "text/plain": [
       "np.float64(8.0)"
      ]
     },
     "execution_count": 30,
     "metadata": {},
     "output_type": "execute_result"
    }
   ],
   "source": [
    "range_jaguar = max_jaguar - min_jaguar\n",
    "range_jaguar"
   ]
  },
  {
   "cell_type": "code",
   "execution_count": 31,
   "id": "41a1a33e",
   "metadata": {},
   "outputs": [
    {
     "data": {
      "text/plain": [
       "np.float64(9.8)"
      ]
     },
     "execution_count": 31,
     "metadata": {},
     "output_type": "execute_result"
    }
   ],
   "source": [
    "q1_jaguar = np.percentile(jaguar, 50)\n",
    "q1_jaguar"
   ]
  },
  {
   "cell_type": "code",
   "execution_count": 32,
   "id": "3d298c03",
   "metadata": {},
   "outputs": [
    {
     "data": {
      "text/plain": [
       "np.float64(9.8)"
      ]
     },
     "execution_count": 32,
     "metadata": {},
     "output_type": "execute_result"
    }
   ],
   "source": [
    "q2_jaguar = np.percentile(jaguar, 50)\n",
    "q2_jaguar"
   ]
  },
  {
   "cell_type": "code",
   "execution_count": 33,
   "id": "d2d20d53",
   "metadata": {},
   "outputs": [
    {
     "data": {
      "text/plain": [
       "np.float64(10.45)"
      ]
     },
     "execution_count": 33,
     "metadata": {},
     "output_type": "execute_result"
    }
   ],
   "source": [
    "q3_jaguar = np.percentile(jaguar,75)\n",
    "q3_jaguar"
   ]
  },
  {
   "cell_type": "markdown",
   "id": "89cab99c",
   "metadata": {},
   "source": [
    "# Panther Measures Central Tendency"
   ]
  },
  {
   "cell_type": "code",
   "execution_count": 34,
   "id": "994aa49e",
   "metadata": {},
   "outputs": [
    {
     "data": {
      "text/plain": [
       "array([10.1, 11. ,  9.1, 20. ,  9.2, 10.8,  9.9,  9.2,  9.1,  9.1])"
      ]
     },
     "execution_count": 34,
     "metadata": {},
     "output_type": "execute_result"
    }
   ],
   "source": [
    "panther = np.array([10.1,11,9.1,20,9.2,10.8,9.9,9.2,9.1,9.1])\n",
    "panther"
   ]
  },
  {
   "cell_type": "code",
   "execution_count": 35,
   "id": "11c68335",
   "metadata": {},
   "outputs": [
    {
     "data": {
      "text/plain": [
       "np.float64(10.75)"
      ]
     },
     "execution_count": 35,
     "metadata": {},
     "output_type": "execute_result"
    }
   ],
   "source": [
    "panther_mean = np.mean(panther)\n",
    "panther_mean"
   ]
  },
  {
   "cell_type": "code",
   "execution_count": 36,
   "id": "ca031a88",
   "metadata": {},
   "outputs": [
    {
     "data": {
      "text/plain": [
       "np.float64(9.55)"
      ]
     },
     "execution_count": 36,
     "metadata": {},
     "output_type": "execute_result"
    }
   ],
   "source": [
    "panther_median = np.median(panther)\n",
    "panther_median"
   ]
  },
  {
   "cell_type": "code",
   "execution_count": 37,
   "id": "6d55f0c7",
   "metadata": {},
   "outputs": [
    {
     "data": {
      "text/plain": [
       "ModeResult(mode=np.float64(9.1), count=np.int64(3))"
      ]
     },
     "execution_count": 37,
     "metadata": {},
     "output_type": "execute_result"
    }
   ],
   "source": [
    "panther_mode = stats.mode(panther)\n",
    "panther_mode"
   ]
  },
  {
   "cell_type": "code",
   "execution_count": 38,
   "id": "c484915c",
   "metadata": {},
   "outputs": [
    {
     "data": {
      "text/plain": [
       "np.float64(3.1582431825304393)"
      ]
     },
     "execution_count": 38,
     "metadata": {},
     "output_type": "execute_result"
    }
   ],
   "source": [
    "panther_std = np.std(panther)\n",
    "panther_std"
   ]
  },
  {
   "cell_type": "code",
   "execution_count": 39,
   "id": "a0cc2917",
   "metadata": {},
   "outputs": [
    {
     "data": {
      "text/plain": [
       "array([ 9.1,  9.1,  9.1,  9.2,  9.2,  9.9, 10.1, 10.8, 11. , 20. ])"
      ]
     },
     "execution_count": 39,
     "metadata": {},
     "output_type": "execute_result"
    }
   ],
   "source": [
    "panther_sorted = np.sort(panther)\n",
    "panther_sorted"
   ]
  },
  {
   "cell_type": "code",
   "execution_count": 40,
   "id": "8294a652",
   "metadata": {},
   "outputs": [
    {
     "data": {
      "text/plain": [
       "np.float64(20.0)"
      ]
     },
     "execution_count": 40,
     "metadata": {},
     "output_type": "execute_result"
    }
   ],
   "source": [
    "max_panther = np.max(panther)\n",
    "max_panther"
   ]
  },
  {
   "cell_type": "code",
   "execution_count": 41,
   "id": "8a812adc",
   "metadata": {},
   "outputs": [
    {
     "data": {
      "text/plain": [
       "np.float64(9.1)"
      ]
     },
     "execution_count": 41,
     "metadata": {},
     "output_type": "execute_result"
    }
   ],
   "source": [
    "min_panther = np.min(panther)\n",
    "min_panther"
   ]
  },
  {
   "cell_type": "code",
   "execution_count": 42,
   "id": "e475d421",
   "metadata": {},
   "outputs": [
    {
     "data": {
      "text/plain": [
       "np.float64(10.9)"
      ]
     },
     "execution_count": 42,
     "metadata": {},
     "output_type": "execute_result"
    }
   ],
   "source": [
    "range_panther = max_panther - min_panther\n",
    "range_panther"
   ]
  }
 ],
 "metadata": {
  "kernelspec": {
   "display_name": "Python 3",
   "language": "python",
   "name": "python3"
  },
  "language_info": {
   "codemirror_mode": {
    "name": "ipython",
    "version": 3
   },
   "file_extension": ".py",
   "mimetype": "text/x-python",
   "name": "python",
   "nbconvert_exporter": "python",
   "pygments_lexer": "ipython3",
   "version": "3.11.9"
  }
 },
 "nbformat": 4,
 "nbformat_minor": 5
}
