{
 "cells": [
  {
   "cell_type": "markdown",
   "id": "8b8e2acd",
   "metadata": {},
   "source": [
    "# Logical Operators <hr style=\"border:2.5px solid #126782\\\"></hr>"
   ]
  },
  {
   "cell_type": "markdown",
   "id": "d302a1ca",
   "metadata": {},
   "source": [
    "# Data Analys: John Lester A. Acaso <br> Department: Electrical Engineering"
   ]
  },
  {
   "cell_type": "markdown",
   "id": "1c047726",
   "metadata": {},
   "source": [
    "# Logical AND"
   ]
  },
  {
   "cell_type": "code",
   "execution_count": 1,
   "id": "ee0b8045",
   "metadata": {},
   "outputs": [
    {
     "name": "stdout",
     "output_type": "stream",
     "text": [
      "both are true\n"
     ]
    }
   ],
   "source": [
    "a = True\n",
    "b = True\n",
    "\n",
    "if a and b:\n",
    "    print(\"both are true\")\n",
    "else:\n",
    "    print(\"at least one is false\")"
   ]
  },
  {
   "cell_type": "code",
   "execution_count": 1,
   "id": "96d4d6f6",
   "metadata": {},
   "outputs": [
    {
     "name": "stdout",
     "output_type": "stream",
     "text": [
      "12\n"
     ]
    },
    {
     "ename": "TypeError",
     "evalue": "unsupported operand type(s) for +: 'NoneType' and 'str'",
     "output_type": "error",
     "traceback": [
      "\u001b[31m---------------------------------------------------------------------------\u001b[39m",
      "\u001b[31mTypeError\u001b[39m                                 Traceback (most recent call last)",
      "\u001b[36mCell\u001b[39m\u001b[36m \u001b[39m\u001b[32mIn[1]\u001b[39m\u001b[32m, line 6\u001b[39m\n\u001b[32m      4\u001b[39m     \u001b[38;5;28mprint\u001b[39m(\u001b[38;5;28mstr\u001b[39m(a)) + \u001b[33m\"\u001b[39m\u001b[33m is within the range of 1 to 10.:\u001b[39m\u001b[33m\"\u001b[39m\n\u001b[32m      5\u001b[39m \u001b[38;5;28;01melif\u001b[39;00m (a > \u001b[32m10\u001b[39m) \u001b[38;5;129;01mand\u001b[39;00m (a <= \u001b[32m20\u001b[39m):\n\u001b[32m----> \u001b[39m\u001b[32m6\u001b[39m     \u001b[38;5;28;43mprint\u001b[39;49m\u001b[43m(\u001b[49m\u001b[38;5;28;43mstr\u001b[39;49m\u001b[43m(\u001b[49m\u001b[43ma\u001b[49m\u001b[43m)\u001b[49m\u001b[43m)\u001b[49m\u001b[43m \u001b[49m\u001b[43m+\u001b[49m\u001b[43m \u001b[49m\u001b[33;43m\"\u001b[39;49m\u001b[33;43m is within the range of 11 to 20.:\u001b[39;49m\u001b[33;43m\"\u001b[39;49m\n\u001b[32m      7\u001b[39m \u001b[38;5;28;01melif\u001b[39;00m (a > \u001b[32m20\u001b[39m) \u001b[38;5;129;01mand\u001b[39;00m (a <= \u001b[32m30\u001b[39m):\n\u001b[32m      8\u001b[39m     \u001b[38;5;28mprint\u001b[39m(\u001b[38;5;28mstr\u001b[39m(a)) + \u001b[33m\"\u001b[39m\u001b[33m is within the range of 21 to 30.:\u001b[39m\u001b[33m\"\u001b[39m\n",
      "\u001b[31mTypeError\u001b[39m: unsupported operand type(s) for +: 'NoneType' and 'str'"
     ]
    }
   ],
   "source": [
    "a = 12\n",
    "\n",
    "if (a > 0) and (a <= 10):\n",
    "    print(str(a)) + \" is within the range of 1 to 10.:\"\n",
    "elif (a > 10) and (a <= 20):\n",
    "    print(str(a)) + \" is within the range of 11 to 20.:\"\n",
    "elif (a > 20) and (a <= 30):\n",
    "    print(str(a)) + \" is within the range of 21 to 30.:\"\n",
    "else:\n",
    "    print(\"out of range.\")"
   ]
  },
  {
   "cell_type": "markdown",
   "id": "c35b6103",
   "metadata": {},
   "source": [
    "# Logical OR"
   ]
  },
  {
   "cell_type": "code",
   "execution_count": 3,
   "id": "0b2e65a3",
   "metadata": {},
   "outputs": [
    {
     "name": "stdout",
     "output_type": "stream",
     "text": [
      "at least one is true\n"
     ]
    }
   ],
   "source": [
    "a = True\n",
    "b = False\n",
    "\n",
    "if a or b:\n",
    "    print(\"at least one is true\")\n",
    "else:\n",
    "    print(\"both are false\")"
   ]
  },
  {
   "cell_type": "code",
   "execution_count": 4,
   "id": "f34ed90e",
   "metadata": {},
   "outputs": [
    {
     "name": "stdout",
     "output_type": "stream",
     "text": [
      "It's a great day to go outside!\n"
     ]
    }
   ],
   "source": [
    "weather = \"sunny\"\n",
    "\n",
    "if (weather == \"rainy\") or (weather == \"stormy\"):\n",
    "    print(\" Bring an umbrella or stay indoors!\")\n",
    "elif (weather == \"sunny\") or (weather == \"clear\"):\n",
    "    print(\"It's a great day to go outside!\" )\n",
    "else:\n",
    "    print(\"The weather is unpredictable today.\")"
   ]
  },
  {
   "cell_type": "markdown",
   "id": "9911205e",
   "metadata": {},
   "source": [
    "# Logical NOT"
   ]
  },
  {
   "cell_type": "code",
   "execution_count": 5,
   "id": "53fd2315",
   "metadata": {},
   "outputs": [
    {
     "data": {
      "text/plain": [
       "False"
      ]
     },
     "execution_count": 5,
     "metadata": {},
     "output_type": "execute_result"
    }
   ],
   "source": [
    "a = True\n",
    "\n",
    "not a"
   ]
  },
  {
   "cell_type": "code",
   "execution_count": 6,
   "id": "c15c74ea",
   "metadata": {},
   "outputs": [
    {
     "name": "stdout",
     "output_type": "stream",
     "text": [
      "8is odd\n"
     ]
    }
   ],
   "source": [
    "a = 8\n",
    "\n",
    "if not (a % 2 == 0):\n",
    "    print(str(a) + \"is even\")\n",
    "else:\n",
    "    print(str(a) + \"is odd\")"
   ]
  }
 ],
 "metadata": {
  "kernelspec": {
   "display_name": "Python 3",
   "language": "python",
   "name": "python3"
  },
  "language_info": {
   "codemirror_mode": {
    "name": "ipython",
    "version": 3
   },
   "file_extension": ".py",
   "mimetype": "text/x-python",
   "name": "python",
   "nbconvert_exporter": "python",
   "pygments_lexer": "ipython3",
   "version": "3.11.9"
  }
 },
 "nbformat": 4,
 "nbformat_minor": 5
}
