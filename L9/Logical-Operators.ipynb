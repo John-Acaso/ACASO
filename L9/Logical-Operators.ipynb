{
 "cells": [
  {
   "cell_type": "markdown",
   "id": "8b8e2acd",
   "metadata": {},
   "source": [
    "# Logical Operators <hr style = \"border : 2.5px solid #126782\"></hr>"
   ]
  },
  {
   "cell_type": "markdown",
   "id": "d302a1ca",
   "metadata": {},
   "source": [
    "# Data Analys: John Lester A. Acaso <br> Department: Electrical Engineering"
   ]
  },
  {
   "cell_type": "markdown",
   "id": "1c047726",
   "metadata": {},
   "source": [
    "# Logical AND"
   ]
  },
  {
   "cell_type": "code",
   "execution_count": 1,
   "id": "ee0b8045",
   "metadata": {},
   "outputs": [
    {
     "name": "stdout",
     "output_type": "stream",
     "text": [
      "both are true\n"
     ]
    }
   ],
   "source": [
    "a = True\n",
    "b = True\n",
    "\n",
    "if a and b:\n",
    "    print(\"both are true\")\n",
    "else:\n",
    "    print(\"at least one is false\")"
   ]
  },
  {
   "cell_type": "code",
   "execution_count": 9,
   "id": "96d4d6f6",
   "metadata": {},
   "outputs": [
    {
     "name": "stdout",
     "output_type": "stream",
     "text": [
      "20 is within the range of 11 to 20.\n"
     ]
    }
   ],
   "source": [
    "a = 20\n",
    "\n",
    "if (a > 0) and (a <= 10):\n",
    "    print(str(a) + \" is within the range of 1 to 10.\")\n",
    "elif (a > 10) and (a <= 20):\n",
    "    print(str(a) + \" is within the range of 11 to 20.\")\n",
    "elif (a > 20) and (a <= 30):\n",
    "    print(str(a) + \" is within the range of 21 to 30.\")\n",
    "else:\n",
    "    print(\"out of range.\")"
   ]
  },
  {
   "cell_type": "markdown",
   "id": "c35b6103",
   "metadata": {},
   "source": [
    "# Logical OR"
   ]
  },
  {
   "cell_type": "code",
   "execution_count": 3,
   "id": "0b2e65a3",
   "metadata": {},
   "outputs": [
    {
     "name": "stdout",
     "output_type": "stream",
     "text": [
      "at least one is true\n"
     ]
    }
   ],
   "source": [
    "a = True\n",
    "b = False\n",
    "\n",
    "if a or b:\n",
    "    print(\"at least one is true\")\n",
    "else:\n",
    "    print(\"both are false\")"
   ]
  },
  {
   "cell_type": "code",
   "execution_count": 4,
   "id": "f34ed90e",
   "metadata": {},
   "outputs": [
    {
     "name": "stdout",
     "output_type": "stream",
     "text": [
      "It's a great day to go outside!\n"
     ]
    }
   ],
   "source": [
    "weather = \"sunny\"\n",
    "\n",
    "if (weather == \"rainy\") or (weather == \"stormy\"):\n",
    "    print(\" Bring an umbrella or stay indoors!\")\n",
    "elif (weather == \"sunny\") or (weather == \"clear\"):\n",
    "    print(\"It's a great day to go outside!\" )\n",
    "else:\n",
    "    print(\"The weather is unpredictable today.\")"
   ]
  },
  {
   "cell_type": "markdown",
   "id": "9911205e",
   "metadata": {},
   "source": [
    "# Logical NOT"
   ]
  },
  {
   "cell_type": "code",
   "execution_count": 5,
   "id": "53fd2315",
   "metadata": {},
   "outputs": [
    {
     "data": {
      "text/plain": [
       "False"
      ]
     },
     "execution_count": 5,
     "metadata": {},
     "output_type": "execute_result"
    }
   ],
   "source": [
    "a = True\n",
    "\n",
    "not a"
   ]
  },
  {
   "cell_type": "code",
   "execution_count": 6,
   "id": "c15c74ea",
   "metadata": {},
   "outputs": [
    {
     "name": "stdout",
     "output_type": "stream",
     "text": [
      "8is odd\n"
     ]
    }
   ],
   "source": [
    "a = 8\n",
    "\n",
    "if not (a % 2 == 0):\n",
    "    print(str(a) + \"is even\")\n",
    "else:\n",
    "    print(str(a) + \"is odd\")"
   ]
  }
 ],
 "metadata": {
  "kernelspec": {
   "display_name": "Python 3",
   "language": "python",
   "name": "python3"
  },
  "language_info": {
   "codemirror_mode": {
    "name": "ipython",
    "version": 3
   },
   "file_extension": ".py",
   "mimetype": "text/x-python",
   "name": "python",
   "nbconvert_exporter": "python",
   "pygments_lexer": "ipython3",
   "version": "3.11.9"
  }
 },
 "nbformat": 4,
 "nbformat_minor": 5
}
